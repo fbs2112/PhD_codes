{
 "cells": [
  {
   "cell_type": "code",
   "execution_count": null,
   "metadata": {},
   "outputs": [],
   "source": [
    "%load_ext autoreload\n",
    "%autoreload 2"
   ]
  },
  {
   "cell_type": "code",
   "execution_count": null,
   "metadata": {},
   "outputs": [],
   "source": [
    "%matplotlib inline"
   ]
  },
  {
   "cell_type": "markdown",
   "metadata": {},
   "source": [
    "\n",
    "# Blind source separation using NMF\n",
    "\n",
    "Toy example using two sinusoidal signals\n"
   ]
  },
  {
   "cell_type": "code",
   "execution_count": null,
   "metadata": {},
   "outputs": [],
   "source": [
    "print(__doc__)\n",
    "\n",
    "import os as os\n",
    "import numpy as np\n",
    "import matplotlib.pyplot as plt\n",
    "from scipy import io\n",
    "from scipy.signal import stft, istft, spectrogram, chirp, butter, lfilter, freqz\n",
    "from sklearn.decomposition import NMF\n",
    "from sklearn.pipeline import Pipeline\n",
    "from sklearn.model_selection import GridSearchCV\n",
    "from numpy import linalg\n"
   ]
  },
  {
   "cell_type": "code",
   "execution_count": null,
   "metadata": {},
   "outputs": [],
   "source": [
    "plt.rcParams['figure.figsize'] = (12.0, 9.0) # set default size of plots\n",
    "plt.rcParams['image.interpolation'] = 'nearest'\n",
    "plt.rcParams['image.cmap'] = 'gray'\n",
    "plt.rc('text', usetex=True)\n",
    "plt.rc('font', family='times')\n",
    "plt.rcParams.update({'font.size': 26})"
   ]
  },
  {
   "cell_type": "code",
   "execution_count": null,
   "metadata": {},
   "outputs": [],
   "source": [
    "figPath = './figs-01-31/'\n",
    "fs = int(10e6)\n",
    "f1 = 1e6\n",
    "secondsOfData = 0.01\n",
    "numberOfSamples = int(secondsOfData*fs)\n",
    "nfft = 256\n",
    "nperseg = 256\n",
    "beta_loss = 'kullback-leibler'\n",
    "save_fig = False\n",
    "exp_name = '1sin_noise'"
   ]
  },
  {
   "cell_type": "code",
   "execution_count": null,
   "metadata": {},
   "outputs": [],
   "source": [
    "def butter_bandpass(lowcut, highcut, fs, order=5):\n",
    "    nyq = 0.5 * fs\n",
    "    low = lowcut / nyq\n",
    "    high = highcut / nyq\n",
    "    b, a = butter(order, [low, high], btype='band')\n",
    "    return b, a\n",
    "\n",
    "\n",
    "def butter_bandpass_filter(data, lowcut, highcut, fs, order=5):\n",
    "    b, a = butter_bandpass(lowcut, highcut, fs, order=order)\n",
    "    y = lfilter(b, a, data)\n",
    "    return y"
   ]
  },
  {
   "cell_type": "code",
   "execution_count": null,
   "metadata": {},
   "outputs": [],
   "source": [
    "def db2pow(y):\n",
    "    return 10.**(y/10.)"
   ]
  },
  {
   "cell_type": "code",
   "execution_count": null,
   "metadata": {},
   "outputs": [],
   "source": [
    "def plotSpectrogram(f, t, Sxx, vmin=None, vmax=None, save_fig=False, fig_path=None, figName=None):\n",
    "    specdB = 10*np.log10(np.abs(Sxx))    \n",
    "    cmap = plt.get_cmap('jet')\n",
    "    \n",
    "    if vmin==None and vmax==None:\n",
    "        vmin = np.min(specdB)\n",
    "        vmax = np.max(specdB)       \n",
    "        \n",
    "    plt.pcolormesh(t*1e3, f/1e6, specdB, vmin=vmin, vmax=vmax, cmap=cmap)\n",
    "    plt.ylabel('Frequency [MHz]')\n",
    "    plt.xlabel('Time [ms]')\n",
    "    plt.colorbar().ax.set_ylabel('[dB]')\n",
    "    plt.tight_layout()\n",
    "    if save_fig:\n",
    "        if not os.path.exists(fig_path):\n",
    "            os.makedirs(fig_path)\n",
    "        figName = ''.join([figName, '.eps'])\n",
    "        plt.savefig(os.path.join(fig_path,figName), dpi=100, format='eps')\n",
    "    plt.show()"
   ]
  },
  {
   "cell_type": "code",
   "execution_count": null,
   "metadata": {},
   "outputs": [],
   "source": [
    "def saveFig(fig, fig_path, fig_name, save_fig=False):\n",
    "    if save_fig:\n",
    "        if not os.path.exists(fig_path):\n",
    "            os.makedirs(fig_path)\n",
    "        fig_name = ''.join([fig_name, '.eps'])\n",
    "        fig.savefig(os.path.join(fig_path, fig_name), dpi=100, format='eps')"
   ]
  },
  {
   "cell_type": "markdown",
   "metadata": {},
   "source": [
    "# Generate and mix signals"
   ]
  },
  {
   "cell_type": "code",
   "execution_count": null,
   "metadata": {},
   "outputs": [],
   "source": [
    "JNR = db2pow(10)\n",
    "t = np.linspace(0, secondsOfData, numberOfSamples)\n",
    "signal1 = chirp(t, f1, secondsOfData, f1*4)\n",
    "signal1 = np.tile(signal1, 4)\n",
    "pow1 = (np.linalg.norm(signal1)**2)/len(signal1)\n",
    "signal1 = np.concatenate((np.zeros(np.round(signal1.shape[0]/1.2).astype(int)), signal1))\n",
    "noise = np.random.randn(len(signal1))\n",
    "powNoise = (np.linalg.norm(noise)**2)/len(noise)\n",
    "powAux = pow1/JNR\n",
    "noise = noise*np.sqrt(powAux/powNoise)\n",
    "data = signal1+noise"
   ]
  },
  {
   "cell_type": "markdown",
   "metadata": {},
   "source": [
    "# NMF's Input"
   ]
  },
  {
   "cell_type": "code",
   "execution_count": null,
   "metadata": {},
   "outputs": [],
   "source": [
    "f, t, Zxx = stft(data, fs=fs, nperseg=nperseg, nfft=nfft, boundary=None)\n",
    "inputNMF = np.abs(Zxx)\n",
    "inputNMF = np.where(inputNMF==0, 1e-12, inputNMF)\n",
    "\n",
    "specdB = 10*np.log10(inputNMF)    \n",
    "cmap = plt.get_cmap('jet')\n",
    "vmin = np.min(specdB)\n",
    "vmax = np.max(specdB)\n",
    "fig = plt.figure()\n",
    "ax = fig.add_subplot(111)\n",
    "v = ax.pcolormesh(t*1e3, f/1e6, specdB, vmin=vmin, vmax=vmax, cmap=cmap)\n",
    "ax.set_ylabel('Frequency [MHz]')\n",
    "ax.set_xlabel('Time [ms]')\n",
    "fig.colorbar(v).ax.set_ylabel('[dB]')\n",
    "plt.tight_layout()\n",
    "saveFig(fig, figPath, ''.join(['spec_input_', exp_name]), save_fig=save_fig)\n",
    "plt.show()"
   ]
  },
  {
   "cell_type": "code",
   "execution_count": null,
   "metadata": {},
   "outputs": [],
   "source": [
    "inputNMF.shape"
   ]
  },
  {
   "cell_type": "code",
   "execution_count": null,
   "metadata": {},
   "outputs": [],
   "source": [
    "model = NMF(init='nndsvda', max_iter=10000, verbose=2, random_state=1, tol=1e-16, \n",
    "              beta_loss=beta_loss, n_components=1, solver='mu')\n",
    "W = model.fit_transform(inputNMF)\n",
    "H = model.components_"
   ]
  },
  {
   "cell_type": "markdown",
   "metadata": {},
   "source": [
    "# Spectrogram of the Output of NMF"
   ]
  },
  {
   "cell_type": "code",
   "execution_count": null,
   "metadata": {},
   "outputs": [],
   "source": [
    "numberOfSources = W.shape[1]\n",
    "for i in range(numberOfSources):\n",
    "    signal = np.outer(W[:,i],H[i,:])\n",
    "    signal = np.where(signal==0, 1e-12, signal)\n",
    "    plotSpectrogram(f, t, signal, vmin=vmin, vmax=vmax, \n",
    "                    save_fig=save_fig, fig_path=figPath, figName=''.join(['spec_output_', exp_name,\n",
    "                                                                          beta_loss, str(i)]))"
   ]
  },
  {
   "cell_type": "markdown",
   "metadata": {},
   "source": [
    "# Basis Vectors"
   ]
  },
  {
   "cell_type": "code",
   "execution_count": null,
   "metadata": {},
   "outputs": [],
   "source": [
    "for i in range(W.shape[1]):\n",
    "    fig = plt.figure()\n",
    "    ax = fig.add_subplot(111)\n",
    "    ax.plot(f/1e6, W[:,i]/np.max(W[:,i]))\n",
    "    ax.set_xlabel('Frequency [MHz]')\n",
    "    ax.set_ylabel('Normalized Magnitude')\n",
    "    fig.tight_layout()\n",
    "    saveFig(fig, figPath, ''.join(['basis_', exp_name, beta_loss, str(i)]), save_fig=save_fig)\n",
    "    plt.show()"
   ]
  },
  {
   "cell_type": "markdown",
   "metadata": {},
   "source": [
    "# Activation Vectors\n"
   ]
  },
  {
   "cell_type": "code",
   "execution_count": null,
   "metadata": {},
   "outputs": [],
   "source": [
    "for i in range(H.shape[0]):\n",
    "    fig = plt.figure()\n",
    "    ax = fig.add_subplot(111)\n",
    "    ax.plot(t*1e3, H[i,:]/np.max(H[i,:]))\n",
    "    ax.set_xlabel('Time [ms]')\n",
    "    ax.set_ylabel('Normalized Magnitude')\n",
    "    fig.tight_layout()\n",
    "    saveFig(fig, figPath, ''.join(['act_', exp_name, beta_loss, str(i)]), save_fig=save_fig)\n",
    "    plt.show()"
   ]
  },
  {
   "cell_type": "markdown",
   "metadata": {},
   "source": [
    "# Saving log file"
   ]
  },
  {
   "cell_type": "code",
   "execution_count": null,
   "metadata": {},
   "outputs": [],
   "source": [
    "import json"
   ]
  },
  {
   "cell_type": "code",
   "execution_count": null,
   "metadata": {},
   "outputs": [],
   "source": [
    "log_path = './log/'\n",
    "if not os.path.exists(log_path):\n",
    "    os.makedirs(log_path)\n",
    "params = model.get_params()\n",
    "params['nfft'] = nfft\n",
    "params['nperseg'] = nperseg\n",
    "params = json.dumps(params)\n",
    "if save_fig:\n",
    "    with open(''.join([log_path, exp_name, beta_loss, '.p']), 'w') as file:\n",
    "         file.write(params)"
   ]
  }
 ],
 "metadata": {
  "kernelspec": {
   "display_name": "Python 3",
   "language": "python",
   "name": "python3"
  },
  "language_info": {
   "codemirror_mode": {
    "name": "ipython",
    "version": 3
   },
   "file_extension": ".py",
   "mimetype": "text/x-python",
   "name": "python",
   "nbconvert_exporter": "python",
   "pygments_lexer": "ipython3"
  }
 },
 "nbformat": 4,
 "nbformat_minor": 1
}
