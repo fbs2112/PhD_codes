{
 "cells": [
  {
   "cell_type": "code",
   "execution_count": null,
   "metadata": {},
   "outputs": [],
   "source": [
    "%load_ext autoreload\n",
    "%autoreload 2"
   ]
  },
  {
   "cell_type": "code",
   "execution_count": null,
   "metadata": {},
   "outputs": [],
   "source": [
    "%matplotlib inline\n"
   ]
  },
  {
   "cell_type": "markdown",
   "metadata": {},
   "source": [
    "\n",
    "# Blind source separation using NMF\n",
    "\n",
    "Toy example using signals provided by Daniele Borio\n"
   ]
  },
  {
   "cell_type": "code",
   "execution_count": null,
   "metadata": {},
   "outputs": [],
   "source": [
    "print(__doc__)\n",
    "\n",
    "import os as os\n",
    "import numpy as np\n",
    "import matplotlib.pyplot as plt\n",
    "from scipy import io\n",
    "from scipy.signal import stft, istft, spectrogram\n",
    "from sklearn.decomposition import NMF\n",
    "from sklearn.pipeline import Pipeline\n",
    "from sklearn.model_selection import GridSearchCV\n",
    "from numpy import linalg\n"
   ]
  },
  {
   "cell_type": "code",
   "execution_count": null,
   "metadata": {},
   "outputs": [],
   "source": [
    "plt.rcParams['figure.figsize'] = (12.0, 9.0) # set default size of plots\n",
    "plt.rcParams['image.interpolation'] = 'nearest'\n",
    "plt.rcParams['image.cmap'] = 'gray'\n",
    "plt.rc('text', usetex=True)\n",
    "plt.rc('font', family='times')\n",
    "plt.rcParams.update({'font.size': 26})"
   ]
  },
  {
   "cell_type": "code",
   "execution_count": null,
   "metadata": {},
   "outputs": [],
   "source": [
    "figPath = './figs/'\n",
    "fs = 10e6"
   ]
  },
  {
   "cell_type": "code",
   "execution_count": null,
   "metadata": {},
   "outputs": [],
   "source": [
    "dataDir = 'data'\n",
    "fullDir = os.path.join(dataDir, 'JammerData2.mat')\n",
    "data = io.loadmat(fullDir)\n",
    "data = np.squeeze(data['data'])"
   ]
  },
  {
   "cell_type": "code",
   "execution_count": null,
   "metadata": {},
   "outputs": [],
   "source": [
    "def plotSpectrogram(f, t, Sxx, vmin, vmax, save_fig=False,fig_path=None, figName=None):\n",
    "    \n",
    "    specdB = 10*np.log10(np.abs(Sxx))    \n",
    "    cmap = plt.get_cmap('jet')\n",
    "    plt.pcolormesh(np.fft.fftshift(f/1e6), t*1e3, specdB.T,\n",
    "                  vmin=vmin, vmax=vmax, cmap=cmap)\n",
    "    plt.xlabel('Frequency [MHz]')\n",
    "    plt.ylabel('Time [ms]')\n",
    "    plt.colorbar().ax.set_ylabel('[dB]')\n",
    "    plt.tight_layout()\n",
    "    if save_fig:\n",
    "        if not os.path.exists(fig_path):\n",
    "            os.makedirs(fig_path)\n",
    "        plt.savefig(os.path.join(fig_path,figName), dpi=100, format='eps')\n",
    "    plt.show()"
   ]
  },
  {
   "cell_type": "code",
   "execution_count": null,
   "metadata": {},
   "outputs": [],
   "source": [
    "from NMF_test import stft_fun\n",
    "from NMF_estimator import NMF_estimator"
   ]
  },
  {
   "cell_type": "code",
   "execution_count": null,
   "metadata": {},
   "outputs": [],
   "source": [
    "pipe = Pipeline([('spectrogram_eval', stft_fun(fs=fs)),\n",
    "                 ('separate_sources', NMF_estimator(init='random', max_iter=1000, tol=1e-6, verbose=2, \n",
    "                  random_state=0, solver='mu'))])\n",
    "    \n",
    "param_grid = {'spectrogram_eval__nperseg': [2**8, 2**9, 2**10], \n",
    "              'spectrogram_eval__nfft': [2**10, 2**11, 2**12], \n",
    "              'separate_sources__n_components': [2], 'separate_sources__beta_loss':\n",
    "             ['frobenius','kullback-leibler']}\n",
    "\n",
    "grid = GridSearchCV(pipe, cv=[(slice(None), slice(None))], n_jobs=-1, param_grid=param_grid)\n",
    "grid.fit(data)"
   ]
  },
  {
   "cell_type": "code",
   "execution_count": null,
   "metadata": {},
   "outputs": [],
   "source": [
    "grid.best_params_"
   ]
  },
  {
   "cell_type": "code",
   "execution_count": null,
   "metadata": {},
   "outputs": [],
   "source": [
    "NMFAttr = grid.best_estimator_.named_steps['separate_sources']\n",
    "H = NMFAttr.components_\n",
    "W = NMFAttr.W_\n",
    "numberOfSources = W.shape[1]"
   ]
  },
  {
   "cell_type": "code",
   "execution_count": null,
   "metadata": {},
   "outputs": [],
   "source": [
    "100000/512\n"
   ]
  },
  {
   "cell_type": "code",
   "execution_count": null,
   "metadata": {},
   "outputs": [],
   "source": [
    "dataHat = grid.best_estimator_.named_steps['spectrogram_eval'].inverse_transform(W, H)"
   ]
  },
  {
   "cell_type": "code",
   "execution_count": null,
   "metadata": {},
   "outputs": [],
   "source": [
    "grid.best_score_ "
   ]
  },
  {
   "cell_type": "code",
   "execution_count": null,
   "metadata": {},
   "outputs": [],
   "source": [
    "Zxx = stft_fun(fs=fs, nperseg=grid.best_params_['spectrogram_eval__nperseg'],\n",
    "               nfft=grid.best_params_['spectrogram_eval__nfft'])\n",
    "\n",
    "Zxx2 = Zxx.transform(data)\n",
    "phase = np.angle(Zxx.Zxx)\n",
    "\n",
    "dataHat2 = []\n",
    "for i in range(numberOfSources):\n",
    "    x = np.outer(W[:,i],H[i,:])\n",
    "    x = x*np.exp(1j*phase)\n",
    "    _, y = istft(x, fs=fs, nperseg=grid.best_params_['spectrogram_eval__nperseg'],\n",
    "                 nfft=grid.best_params_['spectrogram_eval__nfft'], input_onesided=False)\n",
    "    dataHat2.append(y)\n",
    "print(np.linalg.norm(dataHat[0]-dataHat2[0]))\n",
    "print(np.linalg.norm(dataHat[1]-dataHat2[1]))"
   ]
  },
  {
   "cell_type": "code",
   "execution_count": null,
   "metadata": {},
   "outputs": [],
   "source": [
    "print(W.shape,H.shape)"
   ]
  },
  {
   "cell_type": "code",
   "execution_count": null,
   "metadata": {},
   "outputs": [],
   "source": [
    "NMFSep = {}\n",
    "NMFSep['data'] = dataHat\n",
    "io.savemat('data/NMFbest2.mat',NMFSep)"
   ]
  },
  {
   "cell_type": "code",
   "execution_count": null,
   "metadata": {},
   "outputs": [],
   "source": [
    "f, t, Sxx = spectrogram(data, fs=fs, nperseg=grid.best_params_['spectrogram_eval__nperseg'],\n",
    "                            nfft=grid.best_params_['spectrogram_eval__nfft'])\n",
    "specdB = 20*np.log10(np.abs(Sxx))   \n",
    "cmin = np.min(specdB)\n",
    "cmax = np.max(specdB)\n",
    "print(cmin,cmax)\n",
    "plotSpectrogram(f, t, Sxx, cmin, cmax, save_fig=True, fig_path=figPath, figName=''.join(['JammerData','.eps']))"
   ]
  },
  {
   "cell_type": "code",
   "execution_count": null,
   "metadata": {},
   "outputs": [],
   "source": [
    "aux = 'NMFData'\n",
    "for j, i in enumerate(dataHat):\n",
    "    f, t, Sxx = spectrogram(i, fs=fs, nperseg=grid.best_params_['spectrogram_eval__nperseg'],\n",
    "                            nfft=grid.best_params_['spectrogram_eval__nfft'])\n",
    "    plotSpectrogram(f, t, Sxx, cmin, cmax, save_fig=True, fig_path=figPath, figName=''.join([aux,str(j),'.eps']))"
   ]
  },
  {
   "cell_type": "markdown",
   "metadata": {},
   "source": [
    "# Spectrogram of the reconstructed signal"
   ]
  },
  {
   "cell_type": "code",
   "execution_count": null,
   "metadata": {},
   "outputs": [],
   "source": [
    "np.dot(W,H).shape\n",
    "# print(Sxx.shape) fix it"
   ]
  },
  {
   "cell_type": "code",
   "execution_count": null,
   "metadata": {},
   "outputs": [],
   "source": [
    "# plotSpectrogram(f, t, np.dot(W,H), cmin, cmax, save_fig=True, fig_path=figPath, \n",
    "#                 figName=''.join(['ReconstSignal','.eps']))"
   ]
  },
  {
   "cell_type": "markdown",
   "metadata": {},
   "source": [
    "# Comparing to the adaptive notch filtering result"
   ]
  },
  {
   "cell_type": "code",
   "execution_count": null,
   "metadata": {},
   "outputs": [],
   "source": [
    "fullDir = os.path.join(dataDir, 'filteredData.mat')\n",
    "filteredData = io.loadmat(fullDir)\n",
    "filteredData = np.squeeze(filteredData['data'])"
   ]
  },
  {
   "cell_type": "code",
   "execution_count": null,
   "metadata": {},
   "outputs": [],
   "source": [
    "f, t, Sxx = spectrogram(filteredData, fs=fs, nperseg=grid.best_params_['spectrogram_eval__nperseg'],\n",
    "                            nfft=grid.best_params_['spectrogram_eval__nfft'])\n",
    "plotSpectrogram(f, t, Sxx, cmin, cmax, save_fig=True, fig_path=figPath, figName=''.join(['notch','.eps']))"
   ]
  },
  {
   "cell_type": "markdown",
   "metadata": {},
   "source": [
    "# Spectrogram of pure satellite signal"
   ]
  },
  {
   "cell_type": "code",
   "execution_count": null,
   "metadata": {},
   "outputs": [],
   "source": [
    "fullDir = os.path.join(dataDir, 'satSignal.mat')\n",
    "satSignal = io.loadmat(fullDir)\n",
    "satSignal = np.squeeze(satSignal['locC'])"
   ]
  },
  {
   "cell_type": "code",
   "execution_count": null,
   "metadata": {},
   "outputs": [],
   "source": [
    "f, t, Sxx = spectrogram(satSignal, fs=fs, nperseg=grid.best_params_['spectrogram_eval__nperseg'],\n",
    "                            nfft=grid.best_params_['spectrogram_eval__nfft'])\n",
    "plotSpectrogram(f, t, Sxx, cmin, cmax)"
   ]
  },
  {
   "cell_type": "code",
   "execution_count": null,
   "metadata": {},
   "outputs": [],
   "source": [
    "f, t, Sxx = spectrogram(data, fs=fs, nperseg=grid.best_params_['spectrogram_eval__nperseg'],\n",
    "                            nfft=grid.best_params_['spectrogram_eval__nfft'])\n",
    "\n",
    "print(Sxx.shape,data.shape)\n",
    "print(Sxx.shape[0]*Sxx.shape[1])\n",
    "print(dataHat[0].shape)"
   ]
  }
 ],
 "metadata": {
  "kernelspec": {
   "display_name": "Python 3",
   "language": "python",
   "name": "python3"
  },
  "language_info": {
   "codemirror_mode": {
    "name": "ipython",
    "version": 3
   },
   "file_extension": ".py",
   "mimetype": "text/x-python",
   "name": "python",
   "nbconvert_exporter": "python",
   "pygments_lexer": "ipython3"
  }
 },
 "nbformat": 4,
 "nbformat_minor": 1
}
