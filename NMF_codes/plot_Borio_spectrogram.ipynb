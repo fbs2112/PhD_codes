{
 "cells": [
  {
   "cell_type": "code",
   "execution_count": null,
   "metadata": {},
   "outputs": [],
   "source": [
    "%load_ext autoreload\n",
    "%autoreload 2"
   ]
  },
  {
   "cell_type": "code",
   "execution_count": null,
   "metadata": {},
   "outputs": [],
   "source": [
    "%matplotlib inline\n"
   ]
  },
  {
   "cell_type": "code",
   "execution_count": null,
   "metadata": {},
   "outputs": [],
   "source": [
    "print(__doc__)\n",
    "\n",
    "import os as os\n",
    "import numpy as np\n",
    "import matplotlib.pyplot as plt\n",
    "from scipy import io\n",
    "from scipy.signal import stft, istft, spectrogram\n",
    "from sklearn.decomposition import NMF\n",
    "from sklearn.pipeline import Pipeline\n",
    "from sklearn.model_selection import GridSearchCV\n",
    "from numpy import linalg\n"
   ]
  },
  {
   "cell_type": "code",
   "execution_count": null,
   "metadata": {},
   "outputs": [],
   "source": [
    "plt.rcParams['figure.figsize'] = (12.0, 9.0) # set default size of plots\n",
    "plt.rcParams['image.interpolation'] = 'nearest'\n",
    "plt.rcParams['image.cmap'] = 'gray'\n",
    "plt.rc('text', usetex=True)\n",
    "plt.rc('font', family='times')\n",
    "plt.rcParams.update({'font.size': 26})"
   ]
  },
  {
   "cell_type": "code",
   "execution_count": null,
   "metadata": {},
   "outputs": [],
   "source": [
    "figPath = './figs-01-16/'\n",
    "fs = int(10e6)\n",
    "nfft = 4096\n",
    "nperseg = 1024\n",
    "beta_loss = 'kullback-leibler'\n",
    "save_fig = False\n",
    "exp_name = '2wide'"
   ]
  },
  {
   "cell_type": "code",
   "execution_count": null,
   "metadata": {},
   "outputs": [],
   "source": [
    "dataDir = 'data'\n",
    "fullDir = os.path.join(dataDir, 'JammerData.mat')\n",
    "data = io.loadmat(fullDir)\n",
    "data = np.squeeze(data['data'])\n",
    "\n",
    "fullDir = os.path.join(dataDir, 'filteredData.mat')\n",
    "filteredData = io.loadmat(fullDir)\n",
    "filteredData = np.squeeze(filteredData['data'])"
   ]
  },
  {
   "cell_type": "code",
   "execution_count": null,
   "metadata": {},
   "outputs": [],
   "source": [
    "np.iscomplex(data).any()"
   ]
  },
  {
   "cell_type": "code",
   "execution_count": null,
   "metadata": {},
   "outputs": [],
   "source": [
    "def plotSpectrogram(f, t, Sxx, vmin=None, vmax=None, save_fig=False, fig_path=None, figName=None):\n",
    "    specdB = 10*np.log10(np.abs(Sxx))    \n",
    "    cmap = plt.get_cmap('jet')\n",
    "    \n",
    "    if vmin==None and vmax==None:\n",
    "        vmin = np.min(specdB)\n",
    "        vmax = np.max(specdB)       \n",
    "        \n",
    "    plt.pcolormesh(t*1e3, f/1e6, specdB, vmin=vmin, vmax=vmax, cmap=cmap)\n",
    "    plt.ylabel('Frequency [MHz]')\n",
    "    plt.xlabel('Time [ms]')\n",
    "    plt.colorbar().ax.set_ylabel('[dB]')\n",
    "    plt.tight_layout()\n",
    "    if save_fig:\n",
    "        if not os.path.exists(fig_path):\n",
    "            os.makedirs(fig_path)\n",
    "        figName = ''.join([figName, '.eps'])\n",
    "        plt.savefig(os.path.join(fig_path,figName), dpi=100, format='eps')\n",
    "    plt.show()"
   ]
  },
  {
   "cell_type": "code",
   "execution_count": null,
   "metadata": {},
   "outputs": [],
   "source": [
    "def saveFig(fig, fig_path, fig_name, save_fig=False):\n",
    "    if save_fig:\n",
    "        if not os.path.exists(fig_path):\n",
    "            os.makedirs(fig_path)\n",
    "        fig_name = ''.join([fig_name, '.eps'])\n",
    "        fig.savefig(os.path.join(fig_path, fig_name), dpi=100, format='eps')"
   ]
  },
  {
   "cell_type": "code",
   "execution_count": null,
   "metadata": {},
   "outputs": [],
   "source": [
    "f, t, Zxx = stft(data, fs=fs, nperseg=nperseg, nfft=nfft, boundary=None)\n",
    "inputNMF = np.abs(Zxx)\n",
    "inputNMF = np.where(inputNMF==0, 1e-12, inputNMF)\n",
    "\n",
    "specdB = 10*np.log10(inputNMF)    \n",
    "cmap = plt.get_cmap('jet')\n",
    "vmin = np.min(specdB)\n",
    "vmax = np.max(specdB)\n",
    "fig = plt.figure()\n",
    "ax = fig.add_subplot(111)\n",
    "v = ax.pcolormesh(t*1e3, f/1e6, specdB, vmin=vmin, vmax=vmax, cmap=cmap)\n",
    "ax.set_ylabel('Frequency [MHz]')\n",
    "ax.set_xlabel('Time [ms]')\n",
    "fig.colorbar(v).ax.set_ylabel('[dB]')\n",
    "plt.tight_layout()\n",
    "saveFig(fig, figPath, ''.join(['spec_input_', exp_name]), save_fig=save_fig)\n",
    "plt.show()"
   ]
  },
  {
   "cell_type": "code",
   "execution_count": null,
   "metadata": {},
   "outputs": [],
   "source": [
    "f, t, Zxx = stft(filteredData, fs=fs, nperseg=nperseg, nfft=nfft, boundary=None)\n",
    "inputNMF = np.abs(Zxx)\n",
    "inputNMF = np.where(inputNMF==0, 1e-12, inputNMF)\n",
    "\n",
    "specdB = 10*np.log10(inputNMF)    \n",
    "cmap = plt.get_cmap('jet')\n",
    "fig = plt.figure()\n",
    "ax = fig.add_subplot(111)\n",
    "v = ax.pcolormesh(t*1e3, f/1e6, specdB, vmin=vmin, vmax=vmax, cmap=cmap)\n",
    "ax.set_ylabel('Frequency [MHz]')\n",
    "ax.set_xlabel('Time [ms]')\n",
    "fig.colorbar(v).ax.set_ylabel('[dB]')\n",
    "plt.tight_layout()\n",
    "saveFig(fig, figPath, ''.join(['spec_input_', exp_name]), save_fig=save_fig)\n",
    "plt.show()"
   ]
  }
 ],
 "metadata": {
  "kernelspec": {
   "display_name": "Python 3",
   "language": "python",
   "name": "python3"
  },
  "language_info": {
   "codemirror_mode": {
    "name": "ipython",
    "version": 3
   },
   "file_extension": ".py",
   "mimetype": "text/x-python",
   "name": "python",
   "nbconvert_exporter": "python",
   "pygments_lexer": "ipython3"
  }
 },
 "nbformat": 4,
 "nbformat_minor": 2
}
