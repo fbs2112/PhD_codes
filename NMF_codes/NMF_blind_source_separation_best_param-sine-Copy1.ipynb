{
 "cells": [
  {
   "cell_type": "code",
   "execution_count": null,
   "metadata": {},
   "outputs": [],
   "source": [
    "%load_ext autoreload\n",
    "%autoreload 2"
   ]
  },
  {
   "cell_type": "code",
   "execution_count": null,
   "metadata": {},
   "outputs": [],
   "source": [
    "%matplotlib inline"
   ]
  },
  {
   "cell_type": "markdown",
   "metadata": {},
   "source": [
    "\n",
    "# Blind source separation using NMF\n",
    "\n",
    "Toy example using two sinusoidal signals\n"
   ]
  },
  {
   "cell_type": "code",
   "execution_count": null,
   "metadata": {},
   "outputs": [],
   "source": [
    "print(__doc__)\n",
    "\n",
    "import os as os\n",
    "import numpy as np\n",
    "import matplotlib.pyplot as plt\n",
    "from scipy import io\n",
    "from scipy.signal import stft, istft, spectrogram, chirp, butter, lfilter, freqz\n",
    "from sklearn.decomposition import NMF\n",
    "from sklearn.pipeline import Pipeline\n",
    "from sklearn.model_selection import GridSearchCV\n",
    "from numpy import linalg\n"
   ]
  },
  {
   "cell_type": "code",
   "execution_count": null,
   "metadata": {},
   "outputs": [],
   "source": [
    "plt.rcParams['figure.figsize'] = (12.0, 9.0) # set default size of plots\n",
    "plt.rcParams['image.interpolation'] = 'nearest'\n",
    "plt.rcParams['image.cmap'] = 'gray'\n",
    "plt.rc('text', usetex=True)\n",
    "plt.rc('font', family='times')\n",
    "plt.rcParams.update({'font.size': 26})"
   ]
  },
  {
   "cell_type": "code",
   "execution_count": null,
   "metadata": {},
   "outputs": [],
   "source": [
    "figPath = './figs-01-16/'\n",
    "fs = int(10e6)\n",
    "f1 = 3e6\n",
    "f2 = 1e6\n",
    "secondsOfData = 0.01\n",
    "numberOfSamples = int(secondsOfData*fs)\n",
    "nfft = 256\n",
    "nperseg = 256\n",
    "beta_loss = 'kullback-leibler'\n",
    "save_fig = False\n",
    "exp_name = '2wide'"
   ]
  },
  {
   "cell_type": "code",
   "execution_count": null,
   "metadata": {},
   "outputs": [],
   "source": [
    "def butter_bandpass(lowcut, highcut, fs, order=5):\n",
    "    nyq = 0.5 * fs\n",
    "    low = lowcut / nyq\n",
    "    high = highcut / nyq\n",
    "    b, a = butter(order, [low, high], btype='band')\n",
    "    return b, a\n",
    "\n",
    "\n",
    "def butter_bandpass_filter(data, lowcut, highcut, fs, order=5):\n",
    "    b, a = butter_bandpass(lowcut, highcut, fs, order=order)\n",
    "    y = lfilter(b, a, data)\n",
    "    return y"
   ]
  },
  {
   "cell_type": "markdown",
   "metadata": {},
   "source": [
    "# Generate and mix signals"
   ]
  },
  {
   "cell_type": "code",
   "execution_count": null,
   "metadata": {},
   "outputs": [],
   "source": [
    "t = np.linspace(0, secondsOfData, numberOfSamples)\n",
    "signal1 = np.sin(2*np.pi*f1*t)\n",
    "signal1 = np.concatenate((signal1, np.zeros(signal1.shape[0]//3)))\n",
    "\n",
    "signal2 = np.sin(2*np.pi*f2*t)\n",
    "# signal2 = chirp(t, 1e6, 0.1, 2e6)\n",
    "\n",
    "signal2 = np.concatenate((np.zeros(signal2.shape[0]//4), signal2))\n",
    "signal2 = np.concatenate((signal2, np.zeros(signal1.shape[0] - signal2.shape[0])))\n",
    "\n",
    "signal3 = np.sin(2*np.pi*1.5*f2*t)\n",
    "signal3 = np.concatenate((np.zeros(signal2.shape[0]//2), \n",
    "                          signal3[:(signal2.shape[0]-signal2.shape[0]//2 - 40000)], \n",
    "                          np.zeros(40000)))\n",
    "\n",
    "data = signal1+signal2 #Mixing signals\n",
    "data.shape"
   ]
  },
  {
   "cell_type": "code",
   "execution_count": null,
   "metadata": {},
   "outputs": [],
   "source": [
    "signal1 = np.zeros(numberOfSamples)\n",
    "signal2 = np.zeros(numberOfSamples)\n",
    "signal3 = np.zeros(numberOfSamples)\n",
    "\n",
    "t = np.linspace(0, secondsOfData/2, numberOfSamples/2)\n",
    "\n",
    "signal1[:-1 - numberOfSamples//2+1] = np.sin(2*np.pi*f1*t)\n",
    "signal2[(numberOfSamples//2+1)//4:-1 - numberOfSamples//2+1 + (numberOfSamples//2+1)//4] = np.sin(2*np.pi*f2*t)\n",
    "signal3[numberOfSamples//2-10000:-1-10000+1] = np.sin(2*np.pi*1.5*f2*t)\n",
    "\n",
    "# signal1 = np.sin(2*np.pi*f1*t)\n",
    "# signal1 = np.concatenate((signal1, np.zeros(signal1.shape[0]//3)))\n",
    "\n",
    "# signal2 = np.sin(2*np.pi*f2*t)\n",
    "# # signal2 = chirp(t, 1e6, 0.1, 2e6)\n",
    "\n",
    "# signal2 = np.concatenate((np.zeros(signal2.shape[0]//4), signal2))\n",
    "# signal2 = np.concatenate((signal2, np.zeros(signal1.shape[0] - signal2.shape[0])))\n",
    "\n",
    "# signal3 = np.sin(2*np.pi*1.5*f2*t)\n",
    "# signal3 = np.concatenate((np.zeros(signal2.shape[0]//2), \n",
    "#                           signal3[:(signal2.shape[0]-signal2.shape[0]//2 - 40000)], \n",
    "#                           np.zeros(40000)))\n",
    "\n",
    "data = signal1+signal2+signal3 #Mixing signals\n",
    "data = data*np.sqrt(1/np.var(data))\n",
    "# data.shape"
   ]
  },
  {
   "cell_type": "code",
   "execution_count": null,
   "metadata": {},
   "outputs": [],
   "source": [
    "t = np.linspace(0, secondsOfData, numberOfSamples)\n",
    "signal1 = np.exp(1j*2*np.pi*f1*t)\n",
    "signal2 = np.exp(1j*2*np.pi*f2*t)\n",
    "signal1 = np.concatenate((signal1, np.zeros(signal1.shape[0]//4)))\n",
    "signal2 = np.concatenate((np.zeros(signal2.shape[0]//4), signal2))\n",
    "data = signal1+signal2\n",
    "data = data*np.sqrt(1/np.var(data))\n"
   ]
  },
  {
   "cell_type": "markdown",
   "metadata": {},
   "source": [
    "# chirp1sin Experiment data"
   ]
  },
  {
   "cell_type": "code",
   "execution_count": null,
   "metadata": {},
   "outputs": [],
   "source": [
    "t = np.linspace(0, secondsOfData, numberOfSamples)\n",
    "signal1 = np.sin(2*np.pi*f1*t)\n",
    "signal1 = np.concatenate((signal1, np.zeros(np.round(signal1.shape[0]/1.2).astype(int))))\n",
    "signal2 = chirp(t, f2, secondsOfData, 1.2*f2)\n",
    "signal2 = np.concatenate((np.zeros(np.round(signal2.shape[0]/1.2).astype(int)), signal2))\n",
    "data = signal1+signal2\n",
    "data = data*np.sqrt(1/np.var(data))"
   ]
  },
  {
   "cell_type": "markdown",
   "metadata": {},
   "source": [
    "# 2chirp Experiment data\n"
   ]
  },
  {
   "cell_type": "code",
   "execution_count": null,
   "metadata": {},
   "outputs": [],
   "source": [
    "t = np.linspace(0, secondsOfData, numberOfSamples)\n",
    "signal1 = chirp(t, f1, secondsOfData, f1*1.2)\n",
    "signal1 = np.concatenate((signal1, np.zeros(np.round(signal1.shape[0]/1.2).astype(int))))\n",
    "signal2 = chirp(t, f2, secondsOfData, 1.2*f2)\n",
    "signal2 = np.concatenate((np.zeros(np.round(signal2.shape[0]/1.2).astype(int)), signal2))\n",
    "data = signal1+signal2\n",
    "data = data*np.sqrt(1/np.var(data))"
   ]
  },
  {
   "cell_type": "markdown",
   "metadata": {},
   "source": [
    "# 2wide Experiment data\n"
   ]
  },
  {
   "cell_type": "code",
   "execution_count": null,
   "metadata": {},
   "outputs": [],
   "source": [
    "# t = np.linspace(0, secondsOfData, numberOfSamples)\n",
    "# signal1 = np.random.randn(numberOfSamples)\n",
    "# lowcut = 1e6\n",
    "# highcut = 1.1e6\n",
    "# signal1 = butter_bandpass_filter(signal1, lowcut, highcut, fs, order=6)\n",
    "# signal1 = np.concatenate((signal1, np.zeros(np.round(signal1.shape[0]/1.2).astype(int))))\n",
    "# signal2 = np.random.randn(numberOfSamples)\n",
    "# lowcut = 1.09e6\n",
    "# highcut = 1.19e6\n",
    "# signal2 = butter_bandpass_filter(signal2, lowcut, highcut, fs, order=6)\n",
    "# signal2 = np.concatenate((np.zeros(np.round(signal2.shape[0]/1.2).astype(int)), signal2))\n",
    "# data = signal1+signal2\n",
    "# data = data*np.sqrt(1/np.var(data))\n",
    "# w, h = freqz(signal1, 1)\n",
    "# plt.plot((fs * 0.5 / np.pi) * w, 10*np.log10(abs(h)))\n",
    "# w, h = freqz(signal2, 1)\n",
    "# plt.plot((fs * 0.5 / np.pi) * w, 10*np.log10(abs(h)), color='red')"
   ]
  },
  {
   "cell_type": "code",
   "execution_count": null,
   "metadata": {},
   "outputs": [],
   "source": [
    "plt.figure()\n",
    "plt.plot(data)\n",
    "plt.show()"
   ]
  },
  {
   "cell_type": "code",
   "execution_count": null,
   "metadata": {},
   "outputs": [],
   "source": [
    "def plotSpectrogram(f, t, Sxx, vmin=None, vmax=None, save_fig=False, fig_path=None, figName=None):\n",
    "    specdB = 10*np.log10(np.abs(Sxx))    \n",
    "    cmap = plt.get_cmap('jet')\n",
    "    \n",
    "    if vmin==None and vmax==None:\n",
    "        vmin = np.min(specdB)\n",
    "        vmax = np.max(specdB)       \n",
    "        \n",
    "    plt.pcolormesh(t*1e3, f/1e6, specdB, vmin=vmin, vmax=vmax, cmap=cmap)\n",
    "    plt.ylabel('Frequency [MHz]')\n",
    "    plt.xlabel('Time [ms]')\n",
    "    plt.colorbar().ax.set_ylabel('[dB]')\n",
    "    plt.tight_layout()\n",
    "    if save_fig:\n",
    "        if not os.path.exists(fig_path):\n",
    "            os.makedirs(fig_path)\n",
    "        figName = ''.join([figName, '.eps'])\n",
    "        plt.savefig(os.path.join(fig_path,figName), dpi=100, format='eps')\n",
    "    plt.show()"
   ]
  },
  {
   "cell_type": "code",
   "execution_count": null,
   "metadata": {},
   "outputs": [],
   "source": [
    "def saveFig(fig, fig_path, fig_name, save_fig=False):\n",
    "    if save_fig:\n",
    "        if not os.path.exists(fig_path):\n",
    "            os.makedirs(fig_path)\n",
    "        fig_name = ''.join([fig_name, '.eps'])\n",
    "        fig.savefig(os.path.join(fig_path, fig_name), dpi=100, format='eps')"
   ]
  },
  {
   "cell_type": "code",
   "execution_count": null,
   "metadata": {},
   "outputs": [],
   "source": [
    "f, t, Zxx = stft(data, fs=fs, nperseg=nperseg, nfft=nfft, boundary=None)\n",
    "inputNMF = np.abs(Zxx)\n",
    "inputNMF = np.where(inputNMF==0, 1e-12, inputNMF)"
   ]
  },
  {
   "cell_type": "markdown",
   "metadata": {},
   "source": [
    "# NMF's Input"
   ]
  },
  {
   "cell_type": "code",
   "execution_count": null,
   "metadata": {},
   "outputs": [],
   "source": [
    "specdB = 10*np.log10(inputNMF)    \n",
    "cmap = plt.get_cmap('jet')\n",
    "vmin = np.min(specdB)\n",
    "vmax = np.max(specdB)\n",
    "fig = plt.figure()\n",
    "ax = fig.add_subplot(111)\n",
    "v = ax.pcolormesh(t*1e3, f/1e6, specdB, vmin=vmin, vmax=vmax, cmap=cmap)\n",
    "ax.set_ylabel('Frequency [MHz]')\n",
    "ax.set_xlabel('Time [ms]')\n",
    "fig.colorbar(v).ax.set_ylabel('[dB]')\n",
    "plt.tight_layout()\n",
    "saveFig(fig, figPath, ''.join(['spec_input_', exp_name]), save_fig=save_fig)\n",
    "plt.show()"
   ]
  },
  {
   "cell_type": "code",
   "execution_count": null,
   "metadata": {},
   "outputs": [],
   "source": [
    "inputNMF.shape"
   ]
  },
  {
   "cell_type": "code",
   "execution_count": null,
   "metadata": {},
   "outputs": [],
   "source": [
    "model = NMF(init='nndsvda', max_iter=10000, verbose=2, random_state=1, tol=1e-16, \n",
    "              beta_loss=beta_loss, n_components=5, solver='mu')\n",
    "W = model.fit_transform(inputNMF)\n",
    "H = model.components_"
   ]
  },
  {
   "cell_type": "markdown",
   "metadata": {},
   "source": [
    "# Spectrogram of the Output of NMF"
   ]
  },
  {
   "cell_type": "code",
   "execution_count": null,
   "metadata": {},
   "outputs": [],
   "source": [
    "numberOfSources = W.shape[1]\n",
    "for i in range(numberOfSources):\n",
    "    signal = np.outer(W[:,i],H[i,:])\n",
    "    signal = np.where(signal==0, 1e-12, signal)\n",
    "    plotSpectrogram(f, t, signal, vmin=vmin, vmax=vmax, \n",
    "                    save_fig=save_fig, fig_path=figPath, figName=''.join(['spec_output_', exp_name,\n",
    "                                                                          beta_loss, str(i)]))"
   ]
  },
  {
   "cell_type": "markdown",
   "metadata": {},
   "source": [
    "# Basis Vectors"
   ]
  },
  {
   "cell_type": "code",
   "execution_count": null,
   "metadata": {},
   "outputs": [],
   "source": [
    "for i in range(W.shape[1]):\n",
    "    fig = plt.figure()\n",
    "    ax = fig.add_subplot(111)\n",
    "    ax.plot(f/1e6, W[:,i]/np.max(W[:,i]))\n",
    "    ax.set_xlabel('Frequency [MHz]')\n",
    "    ax.set_ylabel('Normalized Magnitude')\n",
    "    fig.tight_layout()\n",
    "    saveFig(fig, figPath, ''.join(['basis_', exp_name, beta_loss, str(i)]), save_fig=save_fig)\n",
    "    plt.show()"
   ]
  },
  {
   "cell_type": "markdown",
   "metadata": {},
   "source": [
    "# Activation Vectors\n"
   ]
  },
  {
   "cell_type": "code",
   "execution_count": null,
   "metadata": {},
   "outputs": [],
   "source": [
    "for i in range(H.shape[0]):\n",
    "    fig = plt.figure()\n",
    "    ax = fig.add_subplot(111)\n",
    "    ax.plot(t*1e3, H[i,:]/np.max(H[i,:]))\n",
    "    ax.set_xlabel('Time [ms]')\n",
    "    ax.set_ylabel('Normalized Magnitude')\n",
    "    fig.tight_layout()\n",
    "    saveFig(fig, figPath, ''.join(['act_', exp_name, beta_loss, str(i)]), save_fig=save_fig)\n",
    "    plt.show()"
   ]
  },
  {
   "cell_type": "markdown",
   "metadata": {},
   "source": [
    "# Original signals"
   ]
  },
  {
   "cell_type": "code",
   "execution_count": null,
   "metadata": {},
   "outputs": [],
   "source": [
    "plt.figure()\n",
    "plt.subplot(2, 1, 1)\n",
    "plt.plot(signal1)\n",
    "plt.subplot(2, 1, 2)\n",
    "plt.plot(signal2)\n",
    "plt.show()"
   ]
  },
  {
   "cell_type": "markdown",
   "metadata": {},
   "source": [
    "# Mixed Signal"
   ]
  },
  {
   "cell_type": "code",
   "execution_count": null,
   "metadata": {},
   "outputs": [],
   "source": [
    "plt.figure()\n",
    "plt.plot(data[:1000])\n",
    "plt.show()"
   ]
  },
  {
   "cell_type": "markdown",
   "metadata": {},
   "source": [
    "# Reconstructed Signals"
   ]
  },
  {
   "cell_type": "code",
   "execution_count": null,
   "metadata": {},
   "outputs": [],
   "source": [
    "phase = np.angle(Zxx)\n",
    "dataHat = []\n",
    "for i in range(numberOfSources):\n",
    "    x = np.outer(W[:,i],H[i,:])\n",
    "    x = x*np.exp(1j*phase)\n",
    "    _, y = istft(x, fs=fs, nperseg=nperseg, nfft=nfft, input_onesided=True, boundary=False)\n",
    "    dataHat.append(y)"
   ]
  },
  {
   "cell_type": "code",
   "execution_count": null,
   "metadata": {},
   "outputs": [],
   "source": [
    "plt.figure()\n",
    "for j, i in enumerate(dataHat):\n",
    "    plt.subplot(numberOfSources, 1, j+1)\n",
    "    plt.ylim(-1.5, 1.5)\n",
    "    plt.plot(i)\n",
    "plt.show()"
   ]
  },
  {
   "cell_type": "markdown",
   "metadata": {},
   "source": [
    "# Saving log file"
   ]
  },
  {
   "cell_type": "code",
   "execution_count": null,
   "metadata": {},
   "outputs": [],
   "source": [
    "import json"
   ]
  },
  {
   "cell_type": "code",
   "execution_count": null,
   "metadata": {},
   "outputs": [],
   "source": [
    "log_path = './log/'\n",
    "if not os.path.exists(log_path):\n",
    "    os.makedirs(log_path)\n",
    "params = model.get_params()\n",
    "params['nfft'] = nfft\n",
    "params['nperseg'] = nperseg\n",
    "params = json.dumps(params)\n",
    "if save_fig:\n",
    "    with open(''.join([log_path, exp_name, beta_loss, '.p']), 'w') as file:\n",
    "         file.write(params)"
   ]
  }
 ],
 "metadata": {
  "kernelspec": {
   "display_name": "Python 3",
   "language": "python",
   "name": "python3"
  },
  "language_info": {
   "codemirror_mode": {
    "name": "ipython",
    "version": 3
   },
   "file_extension": ".py",
   "mimetype": "text/x-python",
   "name": "python",
   "nbconvert_exporter": "python",
   "pygments_lexer": "ipython3"
  }
 },
 "nbformat": 4,
 "nbformat_minor": 1
}
